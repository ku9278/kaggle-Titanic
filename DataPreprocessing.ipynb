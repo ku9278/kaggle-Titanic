{
 "cells": [
  {
   "cell_type": "code",
   "execution_count": 1,
   "id": "3b56c618-6626-41a9-adc9-58d63718be29",
   "metadata": {},
   "outputs": [],
   "source": [
    "import pandas as pd\n",
    "import numpy as np\n",
    "import matplotlib.pyplot as plt\n",
    "from sklearn.preprocessing import StandardScaler"
   ]
  },
  {
   "cell_type": "code",
   "execution_count": 2,
   "id": "af0ae439-71ec-49ae-ae9f-3373f0450a2c",
   "metadata": {},
   "outputs": [],
   "source": [
    "# 데이터 로드\n",
    "df_train = pd.read_csv(\"./dataset/train.csv\")\n",
    "df_test = pd.read_csv(\"./dataset/test.csv\")"
   ]
  },
  {
   "cell_type": "code",
   "execution_count": 3,
   "id": "ce4048b1-bbf1-4b08-b45a-90f878c3ed2a",
   "metadata": {},
   "outputs": [
    {
     "name": "stdout",
     "output_type": "stream",
     "text": [
      "   PassengerId  Survived  Pclass  \\\n",
      "0            1         0       3   \n",
      "1            2         1       1   \n",
      "2            3         1       3   \n",
      "3            4         1       1   \n",
      "4            5         0       3   \n",
      "\n",
      "                                                Name     Sex   Age  SibSp  \\\n",
      "0                            Braund, Mr. Owen Harris    male  22.0      1   \n",
      "1  Cumings, Mrs. John Bradley (Florence Briggs Th...  female  38.0      1   \n",
      "2                             Heikkinen, Miss. Laina  female  26.0      0   \n",
      "3       Futrelle, Mrs. Jacques Heath (Lily May Peel)  female  35.0      1   \n",
      "4                           Allen, Mr. William Henry    male  35.0      0   \n",
      "\n",
      "   Parch            Ticket     Fare Cabin Embarked  \n",
      "0      0         A/5 21171   7.2500   NaN        S  \n",
      "1      0          PC 17599  71.2833   C85        C  \n",
      "2      0  STON/O2. 3101282   7.9250   NaN        S  \n",
      "3      0            113803  53.1000  C123        S  \n",
      "4      0            373450   8.0500   NaN        S  \n",
      "-------------------------------------------------------------------------------\n",
      "   PassengerId  Pclass                                          Name     Sex  \\\n",
      "0          892       3                              Kelly, Mr. James    male   \n",
      "1          893       3              Wilkes, Mrs. James (Ellen Needs)  female   \n",
      "2          894       2                     Myles, Mr. Thomas Francis    male   \n",
      "3          895       3                              Wirz, Mr. Albert    male   \n",
      "4          896       3  Hirvonen, Mrs. Alexander (Helga E Lindqvist)  female   \n",
      "\n",
      "    Age  SibSp  Parch   Ticket     Fare Cabin Embarked  \n",
      "0  34.5      0      0   330911   7.8292   NaN        Q  \n",
      "1  47.0      1      0   363272   7.0000   NaN        S  \n",
      "2  62.0      0      0   240276   9.6875   NaN        Q  \n",
      "3  27.0      0      0   315154   8.6625   NaN        S  \n",
      "4  22.0      1      1  3101298  12.2875   NaN        S  \n"
     ]
    }
   ],
   "source": [
    "# 데이터 로드 확인\n",
    "print(df_train.head())\n",
    "print(\"-------------------------------------------------------------------------------\")\n",
    "print(df_test.head())"
   ]
  },
  {
   "cell_type": "code",
   "execution_count": 4,
   "id": "9e623fae-7a85-428c-b5b5-5eade109f9f1",
   "metadata": {},
   "outputs": [
    {
     "name": "stderr",
     "output_type": "stream",
     "text": [
      "<>:2: SyntaxWarning: invalid escape sequence '\\.'\n",
      "<>:2: SyntaxWarning: invalid escape sequence '\\.'\n",
      "C:\\Users\\ku927\\AppData\\Local\\Temp\\ipykernel_4712\\4272965837.py:2: SyntaxWarning: invalid escape sequence '\\.'\n",
      "  df_train[\"Name\"] = df_train[\"Name\"].str.extract(' ([a-zA-Z]+)\\.', expand=False)\n"
     ]
    }
   ],
   "source": [
    "# Name 분류\n",
    "df_train[\"Name\"] = df_train[\"Name\"].str.extract(' ([a-zA-Z]+)\\.', expand=False)"
   ]
  },
  {
   "cell_type": "code",
   "execution_count": 5,
   "id": "0f13a340-2d41-4f71-bd83-67cc582d4591",
   "metadata": {},
   "outputs": [
    {
     "data": {
      "text/plain": [
       "Name\n",
       "Mr        119\n",
       "Miss       36\n",
       "Mrs        17\n",
       "Master      4\n",
       "Dr          1\n",
       "Name: count, dtype: int64"
      ]
     },
     "execution_count": 5,
     "metadata": {},
     "output_type": "execute_result"
    }
   ],
   "source": [
    "# Age 결측치 Name 분포\n",
    "df_train1 = df_train[df_train.Age.isna()]\n",
    "df_train1[\"Name\"].value_counts()"
   ]
  },
  {
   "cell_type": "code",
   "execution_count": 6,
   "id": "a6a05782-358b-46a7-b0c9-141a1257d261",
   "metadata": {},
   "outputs": [
    {
     "data": {
      "text/plain": [
       "Name\n",
       "Mr          398\n",
       "Miss        146\n",
       "Mrs         108\n",
       "Master       36\n",
       "Rev           6\n",
       "Dr            6\n",
       "Mlle          2\n",
       "Major         2\n",
       "Col           2\n",
       "Countess      1\n",
       "Capt          1\n",
       "Ms            1\n",
       "Sir           1\n",
       "Lady          1\n",
       "Mme           1\n",
       "Don           1\n",
       "Jonkheer      1\n",
       "Name: count, dtype: int64"
      ]
     },
     "execution_count": 6,
     "metadata": {},
     "output_type": "execute_result"
    }
   ],
   "source": [
    "# Age 비결측치 Name 분포\n",
    "df_train2 = df_train[df_train.Age.notna()]\n",
    "df_Mr = df_train2[df_train2[\"Name\"] == \"Mr\"]\n",
    "df_Miss = df_train2[df_train2[\"Name\"] == \"Miss\"]\n",
    "df_Mrs = df_train2[df_train2[\"Name\"] == \"Mrs\"]\n",
    "df_Master = df_train2[df_train2[\"Name\"] == \"Master\"]\n",
    "df_Dr = df_train2[df_train2[\"Name\"] == \"Dr\"]\n",
    "df_train2[\"Name\"].value_counts()"
   ]
  },
  {
   "cell_type": "code",
   "execution_count": 7,
   "id": "44d3e318-67ae-4166-8f43-40b8a01b8129",
   "metadata": {},
   "outputs": [
    {
     "data": {
      "text/plain": [
       "<matplotlib.collections.PathCollection at 0x1fcc1f66270>"
      ]
     },
     "execution_count": 7,
     "metadata": {},
     "output_type": "execute_result"
    },
    {
     "data": {
      "image/png": "[encoded data removed]",
      "text/plain": [
       "<Figure size 640x480 with 1 Axes>"
      ]
     },
     "metadata": {},
     "output_type": "display_data"
    }
   ],
   "source": [
    "df_pclass1 = df_train[df_train[\"Pclass\"] == 1]\n",
    "df_pclass2 = df_train[df_train[\"Pclass\"] == 2]\n",
    "df_pclass3 = df_train[df_train[\"Pclass\"] == 3]\n",
    "\n",
    "x1 = df_pclass1[\"Age\"]\n",
    "y1 = df_pclass1[\"Fare\"]\n",
    "\n",
    "x2 = df_pclass2[\"Age\"]\n",
    "y2 = df_pclass2[\"Fare\"]\n",
    "\n",
    "x3 = df_pclass3[\"Age\"]\n",
    "y3 = df_pclass3[\"Fare\"]\n",
    "\n",
    "plt.scatter(x1, y1, color = \"r\")\n",
    "plt.scatter(x2, y2, color = \"g\")\n",
    "plt.scatter(x3, y3, color = \"b\")"
   ]
  },
  {
   "cell_type": "code",
   "execution_count": 8,
   "id": "d81fbda5-2aa3-49d2-b3a0-e22029a3e651",
   "metadata": {},
   "outputs": [
    {
     "name": "stdout",
     "output_type": "stream",
     "text": [
      "32.368090452261306\n",
      "21.773972602739725\n",
      "35.898148148148145\n",
      "4.574166666666667\n",
      "42.0\n"
     ]
    }
   ],
   "source": [
    "# Name별 Age 평균\n",
    "print(df_Mr[\"Age\"].mean())\n",
    "print(df_Miss[\"Age\"].mean())\n",
    "print(df_Mrs[\"Age\"].mean())\n",
    "print(df_Master[\"Age\"].mean())\n",
    "print(df_Dr[\"Age\"].mean())"
   ]
  },
  {
   "cell_type": "code",
   "execution_count": 9,
   "id": "aa33697d-e294-405f-8d22-264d6803d4da",
   "metadata": {},
   "outputs": [],
   "source": [
    "# Name별 Pclass 분류\n",
    "df_Mr_pc1 = df_Mr[df_Mr[\"Pclass\"] == 1]\n",
    "df_Mr_pc2 = df_Mr[df_Mr[\"Pclass\"] == 2]\n",
    "df_Mr_pc3 = df_Mr[df_Mr[\"Pclass\"] == 3]\n",
    "\n",
    "df_Miss_pc1 = df_Miss[df_Miss[\"Pclass\"] == 1]\n",
    "df_Miss_pc2 = df_Miss[df_Miss[\"Pclass\"] == 2]\n",
    "df_Miss_pc3 = df_Miss[df_Miss[\"Pclass\"] == 3]\n",
    "\n",
    "df_Mrs_pc1 = df_Mrs[df_Mrs[\"Pclass\"] == 1]\n",
    "df_Mrs_pc2 = df_Mrs[df_Mrs[\"Pclass\"] == 2]\n",
    "df_Mrs_pc3 = df_Mrs[df_Mrs[\"Pclass\"] == 3]\n",
    "\n",
    "df_Master_pc1 = df_Master[df_Master[\"Pclass\"] == 1]\n",
    "df_Master_pc2 = df_Master[df_Master[\"Pclass\"] == 2]\n",
    "df_Master_pc3 = df_Master[df_Master[\"Pclass\"] == 3]\n",
    "\n",
    "# df_Dr_pc1 = df_Mr[df_Dr[\"Pclass\"] == 1]\n",
    "# df_Dr_pc2 = df_Mr[df_Dr[\"Pclass\"] == 2]\n",
    "# df_Dr_pc3 = df_Mr[df_Dr[\"Pclass\"] == 3]"
   ]
  },
  {
   "cell_type": "code",
   "execution_count": 10,
   "id": "79c9f441",
   "metadata": {},
   "outputs": [
    {
     "name": "stdout",
     "output_type": "stream",
     "text": [
      "<Mr>\n",
      "--Pclass1--\n",
      "41.58045977011494\n",
      "--Pclass2--\n",
      "32.76829268292683\n",
      "--Pclass3--\n",
      "28.724890829694324\n",
      "\n",
      "\n",
      "<Miss>\n",
      "--Pclass1--\n",
      "30.0\n",
      "--Pclass2--\n",
      "22.390625\n",
      "--Pclass3--\n",
      "16.1231884057971\n",
      "\n",
      "\n",
      "<Mrs>\n",
      "--Pclass1--\n",
      "40.88235294117647\n",
      "--Pclass2--\n",
      "33.68292682926829\n",
      "--Pclass3--\n",
      "33.515151515151516\n",
      "\n",
      "\n",
      "<Master>\n",
      "--Pclass1--\n",
      "5.306666666666667\n",
      "--Pclass2--\n",
      "2.2588888888888885\n",
      "--Pclass3--\n",
      "5.350833333333334\n"
     ]
    }
   ],
   "source": [
    "# Name 및 Pclass 별 Age 평균\n",
    "print(\"<Mr>\")\n",
    "print(\"--Pclass1--\")\n",
    "print(df_Mr_pc1[\"Age\"].mean())\n",
    "print(\"--Pclass2--\")\n",
    "print(df_Mr_pc2[\"Age\"].mean())\n",
    "print(\"--Pclass3--\")\n",
    "print(df_Mr_pc3[\"Age\"].mean())\n",
    "\n",
    "print(\"\\n\")\n",
    "\n",
    "print(\"<Miss>\")\n",
    "print(\"--Pclass1--\")\n",
    "print(df_Miss_pc1[\"Age\"].mean())\n",
    "print(\"--Pclass2--\")\n",
    "print(df_Miss_pc2[\"Age\"].mean())\n",
    "print(\"--Pclass3--\")\n",
    "print(df_Miss_pc3[\"Age\"].mean())\n",
    "\n",
    "print(\"\\n\")\n",
    "\n",
    "print(\"<Mrs>\")\n",
    "print(\"--Pclass1--\")\n",
    "print(df_Mrs_pc1[\"Age\"].mean())\n",
    "print(\"--Pclass2--\")\n",
    "print(df_Mrs_pc2[\"Age\"].mean())\n",
    "print(\"--Pclass3--\")\n",
    "print(df_Mrs_pc3[\"Age\"].mean())\n",
    "\n",
    "print(\"\\n\")\n",
    "\n",
    "print(\"<Master>\")\n",
    "print(\"--Pclass1--\")\n",
    "print(df_Master_pc1[\"Age\"].mean())\n",
    "print(\"--Pclass2--\")\n",
    "print(df_Master_pc2[\"Age\"].mean())\n",
    "print(\"--Pclass3--\")\n",
    "print(df_Master_pc3[\"Age\"].mean())"
   ]
  },
  {
   "cell_type": "code",
   "execution_count": 11,
   "id": "c020e237-b136-4a95-8446-6fa74c02d3ee",
   "metadata": {},
   "outputs": [
    {
     "data": {
      "text/plain": [
       "PassengerId      0\n",
       "Survived         0\n",
       "Pclass           0\n",
       "Name             0\n",
       "Sex              0\n",
       "Age              0\n",
       "SibSp            0\n",
       "Parch            0\n",
       "Ticket           0\n",
       "Fare             0\n",
       "Cabin          687\n",
       "Embarked         2\n",
       "dtype: int64"
      ]
     },
     "execution_count": 11,
     "metadata": {},
     "output_type": "execute_result"
    }
   ],
   "source": [
    "# Age 결측치 처리\n",
    "# Mr\n",
    "df_train.loc[(df_train[\"Name\"] == \"Mr\") & (df_train[\"Pclass\"] == 1) & (df_train[\"Age\"].isnull()), \"Age\"] = df_Mr_pc1[\"Age\"].mean()\n",
    "df_train.loc[(df_train[\"Name\"] == \"Mr\") & (df_train[\"Pclass\"] == 2) & (df_train[\"Age\"].isnull()), \"Age\"] = df_Mr_pc2[\"Age\"].mean()\n",
    "df_train.loc[(df_train[\"Name\"] == \"Mr\") & (df_train[\"Pclass\"] == 3) & (df_train[\"Age\"].isnull()), \"Age\"] = df_Mr_pc3[\"Age\"].mean()\n",
    "\n",
    "# Miss\n",
    "df_train.loc[(df_train[\"Name\"] == \"Miss\") & (df_train[\"Pclass\"] == 1) & (df_train[\"Age\"].isnull()), \"Age\"] = df_Miss_pc1[\"Age\"].mean()\n",
    "df_train.loc[(df_train[\"Name\"] == \"Miss\") & (df_train[\"Pclass\"] == 2) & (df_train[\"Age\"].isnull()), \"Age\"] = df_Miss_pc2[\"Age\"].mean()\n",
    "df_train.loc[(df_train[\"Name\"] == \"Miss\") & (df_train[\"Pclass\"] == 3) & (df_train[\"Age\"].isnull()), \"Age\"] = df_Miss_pc3[\"Age\"].mean()\n",
    "\n",
    "# Mrs\n",
    "df_train.loc[(df_train[\"Name\"] == \"Mrs\") & (df_train[\"Pclass\"] == 1) & (df_train[\"Age\"].isnull()), \"Age\"] = df_Mrs_pc1[\"Age\"].mean()\n",
    "df_train.loc[(df_train[\"Name\"] == \"Mrs\") & (df_train[\"Pclass\"] == 2) & (df_train[\"Age\"].isnull()), \"Age\"] = df_Mrs_pc2[\"Age\"].mean()\n",
    "df_train.loc[(df_train[\"Name\"] == \"Mrs\") & (df_train[\"Pclass\"] == 3) & (df_train[\"Age\"].isnull()), \"Age\"] = df_Mrs_pc3[\"Age\"].mean()\n",
    "\n",
    "# Master\n",
    "df_train.loc[(df_train[\"Name\"] == \"Master\") & (df_train[\"Pclass\"] == 1) & (df_train[\"Age\"].isnull()), \"Age\"] = df_Master_pc1[\"Age\"].mean()\n",
    "df_train.loc[(df_train[\"Name\"] == \"Master\") & (df_train[\"Pclass\"] == 2) & (df_train[\"Age\"].isnull()), \"Age\"] = df_Master_pc2[\"Age\"].mean()\n",
    "df_train.loc[(df_train[\"Name\"] == \"Master\") & (df_train[\"Pclass\"] == 3) & (df_train[\"Age\"].isnull()), \"Age\"] = df_Master_pc3[\"Age\"].mean()\n",
    "\n",
    "# Dr\n",
    "df_train.loc[(df_train[\"Name\"] == \"Dr\") & (df_train[\"Age\"].isnull()), \"Age\"] = df_Dr[\"Age\"].mean()\n",
    "\n",
    "df_train.isnull().sum()"
   ]
  },
  {
   "cell_type": "code",
   "execution_count": 12,
   "id": "893f231b-bd67-43c1-b322-e4572342bd18",
   "metadata": {},
   "outputs": [
    {
     "data": {
      "text/plain": [
       "PassengerId    0\n",
       "Survived       0\n",
       "Pclass         0\n",
       "Name           0\n",
       "Sex            0\n",
       "Age            0\n",
       "SibSp          0\n",
       "Parch          0\n",
       "Ticket         0\n",
       "Fare           0\n",
       "Cabin          0\n",
       "Embarked       2\n",
       "dtype: int64"
      ]
     },
     "execution_count": 12,
     "metadata": {},
     "output_type": "execute_result"
    }
   ],
   "source": [
    "# Cabin 결측치 처리\n",
    "df_train[\"Cabin\"] = df_train[\"Cabin\"].fillna(\"0\")\n",
    "df_train.isnull().sum()"
   ]
  },
  {
   "cell_type": "code",
   "execution_count": 13,
   "id": "db564c03-f4d3-4ecf-98f6-477812f7cccc",
   "metadata": {},
   "outputs": [
    {
     "data": {
      "text/plain": [
       "PassengerId    0\n",
       "Survived       0\n",
       "Pclass         0\n",
       "Name           0\n",
       "Sex            0\n",
       "Age            0\n",
       "SibSp          0\n",
       "Parch          0\n",
       "Ticket         0\n",
       "Fare           0\n",
       "Cabin          0\n",
       "Embarked       0\n",
       "dtype: int64"
      ]
     },
     "execution_count": 13,
     "metadata": {},
     "output_type": "execute_result"
    }
   ],
   "source": [
    "# Embarked 결측치 처리\n",
    "df_train[\"Embarked\"] = df_train[\"Embarked\"].fillna(\"S\")\n",
    "df_train.isnull().sum()"
   ]
  },
  {
   "cell_type": "code",
   "execution_count": 14,
   "id": "a315170f",
   "metadata": {},
   "outputs": [
    {
     "name": "stderr",
     "output_type": "stream",
     "text": [
      "<>:3: SyntaxWarning: invalid escape sequence '\\.'\n",
      "<>:3: SyntaxWarning: invalid escape sequence '\\.'\n",
      "C:\\Users\\ku927\\AppData\\Local\\Temp\\ipykernel_4712\\1972180076.py:3: SyntaxWarning: invalid escape sequence '\\.'\n",
      "  df_test[\"Name\"] = df_test[\"Name\"].str.extract(' ([a-zA-Z]+)\\.', expand=False)\n"
     ]
    },
    {
     "data": {
      "text/plain": [
       "PassengerId    0\n",
       "Pclass         0\n",
       "Name           0\n",
       "Sex            0\n",
       "Age            0\n",
       "SibSp          0\n",
       "Parch          0\n",
       "Ticket         0\n",
       "Fare           0\n",
       "Cabin          0\n",
       "Embarked       0\n",
       "dtype: int64"
      ]
     },
     "execution_count": 14,
     "metadata": {},
     "output_type": "execute_result"
    }
   ],
   "source": [
    "# test 데이터셋 결측치 처리\n",
    "# Name 호칭으로 변경\n",
    "df_test[\"Name\"] = df_test[\"Name\"].str.extract(' ([a-zA-Z]+)\\.', expand=False)\n",
    "\n",
    "# 호칭에 따른 df\n",
    "df_test2 = df_test[df_test.Age.notna()]\n",
    "df_Mr = df_test2[df_test2[\"Name\"] == \"Mr\"]\n",
    "df_Miss = df_test2[df_test2[\"Name\"] == \"Miss\"]\n",
    "df_Mrs = df_test2[df_test2[\"Name\"] == \"Mrs\"]\n",
    "df_Master = df_test2[df_test2[\"Name\"] == \"Master\"]\n",
    "df_Dr = df_test2[df_test2[\"Name\"] == \"Dr\"]\n",
    "\n",
    "# 클래스에 따른 df\n",
    "df_Mr_pc1 = df_Mr[df_Mr[\"Pclass\"] == 1]\n",
    "df_Mr_pc2 = df_Mr[df_Mr[\"Pclass\"] == 2]\n",
    "df_Mr_pc3 = df_Mr[df_Mr[\"Pclass\"] == 3]\n",
    "\n",
    "df_Miss_pc1 = df_Miss[df_Miss[\"Pclass\"] == 1]\n",
    "df_Miss_pc2 = df_Miss[df_Miss[\"Pclass\"] == 2]\n",
    "df_Miss_pc3 = df_Miss[df_Miss[\"Pclass\"] == 3]\n",
    "\n",
    "df_Mrs_pc1 = df_Mrs[df_Mrs[\"Pclass\"] == 1]\n",
    "df_Mrs_pc2 = df_Mrs[df_Mrs[\"Pclass\"] == 2]\n",
    "df_Mrs_pc3 = df_Mrs[df_Mrs[\"Pclass\"] == 3]\n",
    "\n",
    "df_Master_pc1 = df_Master[df_Master[\"Pclass\"] == 1]\n",
    "df_Master_pc2 = df_Master[df_Master[\"Pclass\"] == 2]\n",
    "df_Master_pc3 = df_Master[df_Master[\"Pclass\"] == 3]\n",
    "\n",
    "# Age\n",
    "# Mr\n",
    "df_test.loc[(df_test[\"Name\"] == \"Mr\") & (df_test[\"Pclass\"] == 1) & (df_test[\"Age\"].isnull()), \"Age\"] = df_Mr_pc1[\"Age\"].mean()\n",
    "df_test.loc[(df_test[\"Name\"] == \"Mr\") & (df_test[\"Pclass\"] == 2) & (df_test[\"Age\"].isnull()), \"Age\"] = df_Mr_pc2[\"Age\"].mean()\n",
    "df_test.loc[(df_test[\"Name\"] == \"Mr\") & (df_test[\"Pclass\"] == 3) & (df_test[\"Age\"].isnull()), \"Age\"] = df_Mr_pc3[\"Age\"].mean()\n",
    "\n",
    "# Miss\n",
    "df_test.loc[(df_test[\"Name\"] == \"Miss\") & (df_test[\"Pclass\"] == 1) & (df_test[\"Age\"].isnull()), \"Age\"] = df_Miss_pc1[\"Age\"].mean()\n",
    "df_test.loc[(df_test[\"Name\"] == \"Miss\") & (df_test[\"Pclass\"] == 2) & (df_test[\"Age\"].isnull()), \"Age\"] = df_Miss_pc2[\"Age\"].mean()\n",
    "df_test.loc[(df_test[\"Name\"] == \"Miss\") & (df_test[\"Pclass\"] == 3) & (df_test[\"Age\"].isnull()), \"Age\"] = df_Miss_pc3[\"Age\"].mean()\n",
    "\n",
    "# Mrs\n",
    "df_test.loc[(df_test[\"Name\"] == \"Mrs\") & (df_test[\"Pclass\"] == 1) & (df_test[\"Age\"].isnull()), \"Age\"] = df_Mrs_pc1[\"Age\"].mean()\n",
    "df_test.loc[(df_test[\"Name\"] == \"Mrs\") & (df_test[\"Pclass\"] == 2) & (df_test[\"Age\"].isnull()), \"Age\"] = df_Mrs_pc2[\"Age\"].mean()\n",
    "df_test.loc[(df_test[\"Name\"] == \"Mrs\") & (df_test[\"Pclass\"] == 3) & (df_test[\"Age\"].isnull()), \"Age\"] = df_Mrs_pc3[\"Age\"].mean()\n",
    "\n",
    "# Master\n",
    "df_test.loc[(df_test[\"Name\"] == \"Master\") & (df_test[\"Pclass\"] == 1) & (df_test[\"Age\"].isnull()), \"Age\"] = df_Master_pc1[\"Age\"].mean()\n",
    "df_test.loc[(df_test[\"Name\"] == \"Master\") & (df_test[\"Pclass\"] == 2) & (df_test[\"Age\"].isnull()), \"Age\"] = df_Master_pc2[\"Age\"].mean()\n",
    "df_test.loc[(df_test[\"Name\"] == \"Master\") & (df_test[\"Pclass\"] == 3) & (df_test[\"Age\"].isnull()), \"Age\"] = df_Master_pc3[\"Age\"].mean()\n",
    "\n",
    "# Ms\n",
    "df_test.loc[(df_test[\"Name\"] == \"Ms\") & (df_test[\"Pclass\"] == 3) & (df_test[\"Age\"].isnull()), \"Age\"] = df_Mrs_pc3[\"Age\"].mean()\n",
    "\n",
    "# Dr\n",
    "df_test.loc[(df_train[\"Name\"] == \"Dr\") & (df_test[\"Age\"].isnull()), \"Age\"] = df_Dr[\"Age\"].mean()\n",
    "\n",
    "# Cabin\n",
    "df_test[\"Cabin\"] = df_test[\"Cabin\"].fillna(\"0\")\n",
    "\n",
    "# Embarked\n",
    "df_test[\"Embarked\"] = df_test[\"Embarked\"].fillna(\"S\")\n",
    "\n",
    "# Fare\n",
    "df_FareNn = df_test[df_test.Fare.notna()]\n",
    "df_Fare = df_FareNn[df_FareNn[\"Pclass\"] == 3]\n",
    "df_test[\"Fare\"] = df_test[\"Fare\"].fillna(df_Fare[\"Fare\"].mean())\n",
    "\n",
    "\n",
    "df_test.isnull().sum()"
   ]
  },
  {
   "cell_type": "code",
   "execution_count": 15,
   "id": "6abe2199-5488-40f4-96fb-77fcd450574a",
   "metadata": {},
   "outputs": [],
   "source": [
    "# Sex 인코딩\n",
    "df_train.loc[df_train['Sex']=='male', 'Sex']=0\n",
    "df_train.loc[df_train['Sex']=='female','Sex']=1\n",
    "df_test.loc[df_test['Sex']=='male','Sex']=0\n",
    "df_test.loc[df_test['Sex']=='female','Sex']=1"
   ]
  },
  {
   "cell_type": "code",
   "execution_count": 16,
   "id": "10e0f46d-baab-45fb-b2ed-94d9c766538c",
   "metadata": {},
   "outputs": [],
   "source": [
    "# family\n",
    "df_train[\"Family\"] = df_train[\"Parch\"] + df_train[\"SibSp\"]\n",
    "df_test[\"Family\"] = df_test[\"Parch\"] + df_test[\"SibSp\"]"
   ]
  },
  {
   "cell_type": "code",
   "execution_count": 17,
   "id": "4bbd9359-b676-42e2-aa71-90aca9196cf4",
   "metadata": {},
   "outputs": [],
   "source": [
    "# 표준화\n",
    "train_X_num = df_train[['Age', 'Family']]\n",
    "test_X_num = df_test[['Age', 'Family']]\n",
    "\n",
    "standard_scaler = StandardScaler()\n",
    "\n",
    "train_standard = standard_scaler.fit_transform(train_X_num)\n",
    "train_standard = pd.DataFrame(train_standard, \n",
    "                              index=train_X_num.index, \n",
    "                              columns=train_X_num.columns)\n",
    "\n",
    "test_standard = standard_scaler.fit_transform(test_X_num)\n",
    "test_standard = pd.DataFrame(test_standard, \n",
    "                              index=test_X_num.index, \n",
    "                              columns=test_X_num.columns)\n",
    "\n",
    "df_train[\"Age\"] = train_standard[\"Age\"]\n",
    "df_train[\"Family\"] = train_standard[\"Family\"]\n",
    "df_test[\"Age\"] = test_standard[\"Age\"]\n",
    "df_test[\"Family\"] = test_standard[\"Family\"]"
   ]
  },
  {
   "cell_type": "code",
   "execution_count": 18,
   "id": "cac43dfb",
   "metadata": {},
   "outputs": [
    {
     "data": {
      "text/plain": [
       "Name\n",
       "Mr        517\n",
       "Miss      182\n",
       "Mrs       125\n",
       "Master     40\n",
       "Other      27\n",
       "Name: count, dtype: int64"
      ]
     },
     "execution_count": 18,
     "metadata": {},
     "output_type": "execute_result"
    }
   ],
   "source": [
    "# 호칭 정리\n",
    "df_train['Name'] = df_train['Name'].replace(['Dr', 'Rev', 'Mlle', 'Major', 'Col', 'Countess',\n",
    "                                        'Capt', 'Ms', 'Sir', 'Lady', 'Mme', 'Don', 'Jonkheer', 'Dona'], 'Other')\n",
    "df_test['Name'] = df_test['Name'].replace(['Dr', 'Rev', 'Mlle', 'Major', 'Col', 'Countess',\n",
    "                                        'Capt', 'Ms', 'Sir', 'Lady', 'Mme', 'Don', 'Jonkheer', 'Dona'], 'Other')\n",
    "df_train[\"Name\"].value_counts()"
   ]
  },
  {
   "cell_type": "code",
   "execution_count": 19,
   "id": "225e1f08",
   "metadata": {},
   "outputs": [
    {
     "data": {
      "text/plain": [
       "Name\n",
       "2    517\n",
       "1    182\n",
       "3    125\n",
       "0     40\n",
       "4     27\n",
       "Name: count, dtype: int64"
      ]
     },
     "execution_count": 19,
     "metadata": {},
     "output_type": "execute_result"
    }
   ],
   "source": [
    "# Name 인코딩\n",
    "df_test['Name'] = df_test['Name'].astype('category').cat.codes\n",
    "df_train['Name'] = df_train['Name'].astype('category').cat.codes\n",
    "\n",
    "df_train.head()\n",
    "df_train[\"Name\"].value_counts()"
   ]
  },
  {
   "cell_type": "code",
   "execution_count": 20,
   "id": "0afe8e7f",
   "metadata": {},
   "outputs": [
    {
     "data": {
      "text/plain": [
       "Embarked\n",
       "2    646\n",
       "0    168\n",
       "1     77\n",
       "Name: count, dtype: int64"
      ]
     },
     "execution_count": 20,
     "metadata": {},
     "output_type": "execute_result"
    }
   ],
   "source": [
    "# Embarked 인코딩\n",
    "df_test['Embarked'] = df_test['Embarked'].astype('category').cat.codes\n",
    "df_train['Embarked'] = df_train['Embarked'].astype('category').cat.codes\n",
    "df_train[\"Embarked\"].value_counts()"
   ]
  },
  {
   "cell_type": "code",
   "execution_count": 21,
   "id": "f02dce6b",
   "metadata": {},
   "outputs": [],
   "source": [
    "# 파일저장\n",
    "df_train.to_csv(\"./preprocessed_dataset/train.csv\")\n",
    "df_test.to_csv(\"./preprocessed_dataset/test.csv\")"
   ]
  }
 ],
 "metadata": {
  "kernelspec": {
   "display_name": "Python 3 (ipykernel)",
   "language": "python",
   "name": "python3"
  },
  "language_info": {
   "codemirror_mode": {
    "name": "ipython",
    "version": 3
   },
   "file_extension": ".py",
   "mimetype": "text/x-python",
   "name": "python",
   "nbconvert_exporter": "python",
   "pygments_lexer": "ipython3",
   "version": "3.12.3"
  }
 },
 "nbformat": 4,
 "nbformat_minor": 5
}
