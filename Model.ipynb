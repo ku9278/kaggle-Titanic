{
 "cells": [
  {
   "cell_type": "code",
   "execution_count": 12,
   "id": "5ad55919-9ab5-4e3c-933f-a89447e7757c",
   "metadata": {},
   "outputs": [],
   "source": [
    "import numpy as np\n",
    "import pandas as pd\n",
    "from sklearn.ensemble import RandomForestClassifier\n",
    "from sklearn.model_selection import StratifiedKFold\n",
    "from sklearn.model_selection import GridSearchCV\n",
    "from sklearn.model_selection import train_test_split\n",
    "from sklearn.metrics import accuracy_score\n",
    "import xgboost as xgb\n",
    "\n",
    "# load data\n",
    "df_train = pd.read_csv(\"./preprocessed_dataset/train.csv\")\n",
    "df_test = pd.read_csv(\"./preprocessed_dataset/test.csv\")\n",
    "submission = pd.read_csv(\"./dataset/gender_submission.csv\")\n",
    "\n",
    "# feature: Name, Pclass, Sex, Age, Family\n",
    "train_target = df_train[\"Survived\"].to_numpy()\n",
    "del df_train[\"PassengerId\"]\n",
    "del df_train[\"Survived\"]\n",
    "del df_train[\"SibSp\"]\n",
    "del df_train[\"Parch\"]\n",
    "del df_train[\"Ticket\"]\n",
    "del df_train[\"Fare\"]\n",
    "del df_train[\"Cabin\"]\n",
    "del df_train[\"Embarked\"]\n",
    "train_input = df_train.to_numpy()\n",
    "\n",
    "del df_test[\"PassengerId\"]\n",
    "del df_test[\"SibSp\"]\n",
    "del df_test[\"Parch\"]\n",
    "del df_test[\"Ticket\"]\n",
    "del df_test[\"Fare\"]\n",
    "del df_test[\"Cabin\"]\n",
    "del df_test[\"Embarked\"]\n",
    "test_input = df_test.to_numpy()"
   ]
  },
  {
   "cell_type": "markdown",
   "id": "f34f1e62-fbbb-42dc-938d-59fe0c0c7b68",
   "metadata": {},
   "source": [
    "## Random Forests"
   ]
  },
  {
   "cell_type": "code",
   "execution_count": 3,
   "id": "a045b6e7-5f73-4c20-a557-4abec6de4ffe",
   "metadata": {},
   "outputs": [
    {
     "name": "stdout",
     "output_type": "stream",
     "text": [
      "Fitting 2 folds for each of 6400 candidates, totalling 12800 fits\n",
      "최적 하이퍼 파라미터:\n",
      " {'max_depth': 16, 'min_samples_leaf': 6, 'min_samples_split': 6, 'n_estimators': 100}\n",
      "최고 예측 정확도: 0.8315\n"
     ]
    },
    {
     "data": {
      "text/plain": [
       "0.8156424581005587"
      ]
     },
     "execution_count": 3,
     "metadata": {},
     "output_type": "execute_result"
    }
   ],
   "source": [
    "params = {\n",
    "    'n_estimators':range(100, 2100, 100),\n",
    "    'max_depth' : range(1, 21), \n",
    "    'min_samples_leaf' : [4, 6, 8, 10],\n",
    "    'min_samples_split' : [4, 6, 8, 10]\n",
    "}\n",
    "train_input, val_input, train_target, val_target = train_test_split(\n",
    "    train_input, train_target, test_size=0.2, random_state=42\n",
    ")\n",
    "\n",
    "model = RandomForestClassifier()\n",
    "grid_cv = GridSearchCV(model , param_grid=params , cv=2, n_jobs=2, verbose=2)\n",
    "grid_cv.fit(train_input , train_target)\n",
    "estimator = grid_cv.best_estimator_\n",
    "pred = estimator.predict(val_input)\n",
    "\n",
    "print('최적 하이퍼 파라미터:\\n', grid_cv.best_params_)\n",
    "print('최고 예측 정확도: {0:.4f}'.format(grid_cv.best_score_))\n",
    "accuracy_score(val_target , pred)"
   ]
  },
  {
   "cell_type": "code",
   "execution_count": 8,
   "id": "047705e2-d2d3-4a7b-a363-5d6ab5b9964c",
   "metadata": {},
   "outputs": [],
   "source": [
    "model = RandomForestClassifier(n_estimators=100,  max_depth=16,  min_samples_split=6, min_samples_leaf=6)\n",
    "model.fit(train_input, train_target)\n",
    "\n",
    "predictions=model.predict(test_input)\n",
    "submission['Survived']=predictions\n",
    "submission.to_csv('Result.csv', index=False)"
   ]
  },
  {
   "cell_type": "markdown",
   "id": "cc75fe63-15aa-4167-a010-9b039816c064",
   "metadata": {},
   "source": [
    "## XGBoost"
   ]
  },
  {
   "cell_type": "code",
   "execution_count": 9,
   "id": "39eed7c0-009a-4b20-a9bb-a62ab541e905",
   "metadata": {},
   "outputs": [
    {
     "name": "stdout",
     "output_type": "stream",
     "text": [
      "Fitting 2 folds for each of 3800 candidates, totalling 7600 fits\n",
      "최적 하이퍼 파라미터:\n",
      " {'learning_rate': 0.1, 'max_depth': 2, 'n_estimators': 30}\n",
      "최고 예측 정확도: 0.8488\n"
     ]
    },
    {
     "data": {
      "text/plain": [
       "0.8767123287671232"
      ]
     },
     "execution_count": 9,
     "metadata": {},
     "output_type": "execute_result"
    }
   ],
   "source": [
    "params = {\n",
    "    'n_estimators' :range(10, 210, 10),\n",
    "    'max_depth' : range(2, 21),\n",
    "    'learning_rate' : [0.1, 0.2, 0.3, 0.4, 0.5, 0.6, 0.7, 0.8, 0.9, 1.0]\n",
    "}\n",
    "train_input, val_input, train_target, val_target = train_test_split(\n",
    "    train_input, train_target, test_size=0.2, random_state=42\n",
    ")\n",
    "\n",
    "model = xgb.XGBClassifier()\n",
    "grid_cv = GridSearchCV(model , param_grid=params , cv=2, n_jobs=2, verbose=2)\n",
    "grid_cv.fit(train_input , train_target)\n",
    "estimator = grid_cv.best_estimator_\n",
    "pred = estimator.predict(val_input)\n",
    "\n",
    "print('최적 하이퍼 파라미터:\\n', grid_cv.best_params_)\n",
    "print('최고 예측 정확도: {0:.4f}'.format(grid_cv.best_score_))\n",
    "accuracy_score(val_target , pred)"
   ]
  },
  {
   "cell_type": "code",
   "execution_count": 11,
   "id": "4353d377-0fad-4332-8c7a-7b851f803239",
   "metadata": {},
   "outputs": [],
   "source": [
    "model = xgb.XGBClassifier(n_estimators=30, max_depth=2, learning_rate=0.1)\n",
    "model.fit(train_input, train_target)\n",
    "\n",
    "predictions=model.predict(test_input)\n",
    "submission['Survived']=predictions\n",
    "submission.to_csv('Result.csv', index=False)"
   ]
  }
 ],
 "metadata": {
  "kernelspec": {
   "display_name": "Python 3 (ipykernel)",
   "language": "python",
   "name": "python3"
  },
  "language_info": {
   "codemirror_mode": {
    "name": "ipython",
    "version": 3
   },
   "file_extension": ".py",
   "mimetype": "text/x-python",
   "name": "python",
   "nbconvert_exporter": "python",
   "pygments_lexer": "ipython3",
   "version": "3.12.3"
  }
 },
 "nbformat": 4,
 "nbformat_minor": 5
}
